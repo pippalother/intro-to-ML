{
 "cells": [
  {
   "cell_type": "markdown",
   "metadata": {
    "tags": [
     "AST"
    ]
   },
   "source": [
    "<style>\n",
    "    @media print{\n",
    "        body {\n",
    "            position:relative !important;\n",
    "        }\n",
    "        .celltag_new_page {\n",
    "            page-break-before: always !important;\n",
    "        }\n",
    "    }\n",
    "</style>\n",
    "# COMPSCI 371D Homework 4"
   ]
  },
  {
   "cell_type": "markdown",
   "metadata": {
    "tags": [
     "AT"
    ]
   },
   "source": [
    "### Problem 0 (3 points)"
   ]
  },
  {
   "cell_type": "markdown",
   "metadata": {
    "tags": [
     "AST"
    ]
   },
   "source": [
    "## Part 1: Hyperplanes "
   ]
  },
  {
   "cell_type": "code",
   "execution_count": 56,
   "metadata": {
    "tags": [
     "AST"
    ]
   },
   "outputs": [],
   "source": [
    "import pickle\n",
    "\n",
    "\n",
    "filename = 'data.pkl'\n",
    "with open(filename, 'rb') as file:\n",
    "    data = pickle.load(file)"
   ]
  },
  {
   "cell_type": "code",
   "execution_count": 57,
   "metadata": {
    "tags": [
     "AST"
    ]
   },
   "outputs": [],
   "source": [
    "def check(P, n, beta):\n",
    "    small = np.sqrt(np.finfo(float).eps)\n",
    "    print('Checks for n = {}, beta = {}:'.format(n, beta))\n",
    "    nn = np.linalg.norm(n)\n",
    "    if np.abs(nn - 1.) < small:\n",
    "        print('\\tnorm of n is 1 as expected', end=', ')\n",
    "    else:\n",
    "        print('\\tnorm of n is {}, while expected norm is 1'.format(nn))\n",
    "    if beta >= 0:\n",
    "        print('beta is nonnegative as expected')\n",
    "    else:\n",
    "        print('beta = {} is negative, while it should be nonnegative'.format(beta))\n",
    "    if P.shape[0] == len(n):\n",
    "        print('\\tnumber of points is correct', end=', ')\n",
    "    else:\n",
    "        print('found {} points but expected {}'.format(P.shape[0], len(n)))\n",
    "    checks = ', '.join(['OK' if ok else 'Not OK' for ok in\n",
    "                        np.abs(np.dot(P, n) - beta) < small])\n",
    "    print('individual point checks: {}'.format(checks))"
   ]
  },
  {
   "cell_type": "markdown",
   "metadata": {
    "tags": [
     "AST"
    ]
   },
   "source": [
    "### Problem 1.1 (Exam Style)"
   ]
  },
  {
   "cell_type": "markdown",
   "metadata": {},
   "source": [
    "First, we must assume that j<d because by gefn. these points make up a hyperplane. All the points that are in a hyperplane are orthogonal to the normal vector that defines the hyperplane, so the centroid must be orthogonal to the normal vector to be in the hyperplane.\n",
    "\n",
    "normal.dot(centroid)= n.dot(1/j(p_0+...+p_j-1))\n",
    "\n",
    "normal.dot(centroid)= 1/j(n*p_0+...+n*p_j-1) by distributive property\n",
    "\n",
    "normal.dot(centroid)= 1/j(0+...+0)\n",
    "\n",
    "normal.dot(centroid)= 0/j = 0\n",
    "\n",
    "Therefore, the centroid is orthogonal to the hyperplane."
   ]
  },
  {
   "cell_type": "markdown",
   "metadata": {
    "tags": [
     "AST"
    ]
   },
   "source": [
    "### Problem 1.2 (Exam Style)"
   ]
  },
  {
   "cell_type": "code",
   "execution_count": 58,
   "metadata": {
    "tags": [
     "AST"
    ]
   },
   "outputs": [],
   "source": [
    "from scipy.linalg import null_space\n",
    "import numpy as np\n",
    "\n",
    "def null(A):\n",
    "    return null_space(A).transpose()"
   ]
  },
  {
   "cell_type": "code",
   "execution_count": 59,
   "metadata": {
    "tags": [
     "T"
    ]
   },
   "outputs": [],
   "source": [
    "def rank(A):\n",
    "    NA=null(A)\n",
    "    num_rows, num_cols = NA.shape\n",
    "    num_rows1, num_cols1 = A.shape\n",
    "    return num_cols1-num_rows\n",
    "    \n",
    "    "
   ]
  },
  {
   "cell_type": "code",
   "execution_count": 60,
   "metadata": {
    "tags": [
     "AST"
    ]
   },
   "outputs": [
    {
     "name": "stdout",
     "output_type": "stream",
     "text": [
      "1, 2, 1, 2, 2, 3, 2\n"
     ]
    }
   ],
   "source": [
    "try:\n",
    "    ranks = [str(rank(P)) for P in data['rank']]\n",
    "    print(', '.join(ranks))\n",
    "except NameError:\n",
    "    print('rank not implemented?')"
   ]
  },
  {
   "cell_type": "markdown",
   "metadata": {
    "tags": [
     "AST"
    ]
   },
   "source": [
    "### Problem 1.3 (Exam Style)"
   ]
  },
  {
   "cell_type": "code",
   "execution_count": 65,
   "metadata": {
    "tags": [
     "T"
    ]
   },
   "outputs": [],
   "source": [
    "def generic(P):\n",
    "    x = np.zeros(P[0].size)\n",
    "    for i in range(P[0].size):\n",
    "        cent=np.mean(P[:, i])\n",
    "        x[i] = cent\n",
    "    for j in range(P[:, 0].size):\n",
    "        P[j]=P[j]-x\n",
    "    gentest=rank(P)+1\n",
    "    num_rows, num_cols = P.shape\n",
    "    if(gentest==num_rows):\n",
    "        return True\n",
    "    return False"
   ]
  },
  {
   "cell_type": "code",
   "execution_count": 66,
   "metadata": {
    "tags": [
     "AST"
    ]
   },
   "outputs": [
    {
     "name": "stdout",
     "output_type": "stream",
     "text": [
      "True, True, True, False, False, False\n"
     ]
    }
   ],
   "source": [
    "try:\n",
    "    answers = [str(generic(P)) for P in data['generic']]\n",
    "    print(', '.join(answers))\n",
    "except NameError:\n",
    "    print('generic not implemented?')"
   ]
  },
  {
   "cell_type": "markdown",
   "metadata": {
    "tags": [
     "AST"
    ]
   },
   "source": [
    "### Problem 1.4 (Exam Style)"
   ]
  },
  {
   "cell_type": "code",
   "execution_count": 119,
   "metadata": {
    "tags": [
     "T"
    ]
   },
   "outputs": [],
   "source": [
    "def hyperplane(P):\n",
    "    assert generic(P)==True, \"Points are not generic\"\n",
    "    w=null(P)\n",
    "    n=w.reshape(w.size,)\n",
    "    \n",
    "    #calculate beta\n",
    "    bval=n.dot(P[0])\n",
    "    bval = np.abs(bval)\n",
    "    return n, bval\n",
    "            "
   ]
  },
  {
   "cell_type": "code",
   "execution_count": 121,
   "metadata": {
    "tags": [
     "AST"
    ]
   },
   "outputs": [
    {
     "name": "stdout",
     "output_type": "stream",
     "text": [
      "Checks for n = [1.], beta = 0.0:\n",
      "\tnorm of n is 1 as expected, beta is nonnegative as expected\n",
      "\tnumber of points is correct, individual point checks: OK\n",
      "Checks for n = [-0.7071  0.7071], beta = 1.1102230246251565e-16:\n",
      "\tnorm of n is 1 as expected, beta is nonnegative as expected\n",
      "\tnumber of points is correct, individual point checks: OK, OK\n",
      "Checks for n = [0.866 0.5  ], beta = 1.1102230246251565e-15:\n",
      "\tnorm of n is 1 as expected, beta is nonnegative as expected\n",
      "\tnumber of points is correct, individual point checks: OK, OK\n",
      "Checks for n = [-0.5774 -0.5774 -0.5774], beta = 2.220446049250313e-16:\n",
      "\tnorm of n is 1 as expected, beta is nonnegative as expected\n",
      "\tnumber of points is correct, individual point checks: OK, OK, OK\n",
      "Checks for n = [0. 0. 0. 1.], beta = 0.0:\n",
      "\tnorm of n is 1 as expected, beta is nonnegative as expected\n",
      "\tnumber of points is correct, individual point checks: OK, OK, OK, OK\n"
     ]
    }
   ],
   "source": [
    "try:\n",
    "    with np.printoptions(precision=4):\n",
    "        for P in data['hyperplane']:\n",
    "            n, beta = hyperplane(P)\n",
    "            check(P, n, beta)\n",
    "except NameError:\n",
    "    print('hyperplane not implemented?')"
   ]
  },
  {
   "cell_type": "markdown",
   "metadata": {
    "tags": [
     "AST"
    ]
   },
   "source": [
    "### Problem 1.5 (Exam Style)"
   ]
  },
  {
   "cell_type": "markdown",
   "metadata": {},
   "source": [
    "The function points calculates the vectors orthogonal to the normal vector and then adds an addition vector made out of a linear combination of one of the orthogonal vectors. The function then adds the hyperplane's distance from the origin (the dot product of beta and the normal vector) to orient the vectors correctly."
   ]
  },
  {
   "cell_type": "code",
   "execution_count": 248,
   "metadata": {
    "tags": [
     "T"
    ]
   },
   "outputs": [],
   "source": [
    "def points(n, beta): \n",
    "    val = n.dot(beta)\n",
    "    hint=null([n])\n",
    "    d=n.size\n",
    "    hyper=np.zeros((d,d))\n",
    "    if(hint.size<=0):\n",
    "        hyper[0]=0 + val\n",
    "        return hyper\n",
    "    for i in range(hint.shape[0]):\n",
    "        hyper[i]=hint[i]\n",
    "    hyper[d-1]=hint[0]*3\n",
    "    hyper = hyper+val\n",
    "    return hyper"
   ]
  },
  {
   "cell_type": "code",
   "execution_count": 250,
   "metadata": {
    "tags": [
     "AST"
    ]
   },
   "outputs": [
    {
     "name": "stdout",
     "output_type": "stream",
     "text": [
      "Checks for n = [-1.], beta = 4.0:\n",
      "\tnorm of n is 1 as expected, beta is nonnegative as expected\n",
      "\tnumber of points is correct, individual point checks: OK\n",
      "Checks for n = [-0.7071  0.7071], beta = 0.0:\n",
      "\tnorm of n is 1 as expected, beta is nonnegative as expected\n",
      "\tnumber of points is correct, individual point checks: OK, OK\n",
      "Checks for n = [0.866 0.5  ], beta = 3.0:\n",
      "\tnorm of n is 1 as expected, beta is nonnegative as expected\n",
      "\tnumber of points is correct, individual point checks: OK, OK\n",
      "Checks for n = [-0.5774 -0.5774 -0.5774], beta = 2.0:\n",
      "\tnorm of n is 1 as expected, beta is nonnegative as expected\n",
      "\tnumber of points is correct, individual point checks: OK, OK, OK\n",
      "Checks for n = [0. 0. 0. 1.], beta = 0.0:\n",
      "\tnorm of n is 1 as expected, beta is nonnegative as expected\n",
      "\tnumber of points is correct, individual point checks: OK, OK, OK, OK\n"
     ]
    }
   ],
   "source": [
    "try:\n",
    "    with np.printoptions(precision=4):\n",
    "        for n, beta in data['points']:\n",
    "            P = points(n, beta)\n",
    "            check(P, n, beta)\n",
    "except NameError:\n",
    "    print('points not implemented?')"
   ]
  },
  {
   "cell_type": "markdown",
   "metadata": {
    "tags": [
     "AST"
    ]
   },
   "source": [
    "## Part 2: A Binary Linear Classifier for Linearly Separable Data"
   ]
  },
  {
   "cell_type": "markdown",
   "metadata": {
    "tags": [
     "AST"
    ]
   },
   "source": [
    "### Problem 2.1 (Exam Style)"
   ]
  },
  {
   "cell_type": "markdown",
   "metadata": {},
   "source": [
    "𝐠𝑛=[-y_n*x_n, -y_n]"
   ]
  },
  {
   "cell_type": "markdown",
   "metadata": {
    "tags": [
     "AST"
    ]
   },
   "source": [
    "### Problem 2.2"
   ]
  },
  {
   "cell_type": "code",
   "execution_count": 261,
   "metadata": {
    "tags": [
     "AST"
    ]
   },
   "outputs": [],
   "source": [
    "import matplotlib.pyplot as plt\n",
    "%matplotlib inline\n",
    "import numpy as np\n",
    "\n",
    "def plot_line(v):\n",
    "    x_lim, y_lim = plt.xlim(), plt.ylim()\n",
    "    w, b = v[:2], v[2]\n",
    "    p = []\n",
    "    if w[1] != 0.:\n",
    "        for x in x_lim:\n",
    "            y = - (b + w[0] * x) / w[1]\n",
    "            if y_lim[0] <= y <= y_lim[1]:\n",
    "                p.append((x, y))\n",
    "    if w[0] != 0.:\n",
    "        for y in y_lim:\n",
    "            x = - (b + w[1] * y) / w[0]\n",
    "            if x_lim[0] < x < x_lim[1]:\n",
    "                p.append((x, y))\n",
    "    if len(p) < 2:\n",
    "        print('Warning: line does not intersect the axis rectangle')\n",
    "    else:\n",
    "        plt.plot([p[0][0], p[1][0]], [p[0][1], p[1][1]], 'r')\n",
    "        plt.xlim(x_lim)\n",
    "        plt.ylim(y_lim)\n",
    "\n",
    "\n",
    "def show(T, v=None, epochs=None):\n",
    "    x, y = (np.array(item) for item in list(zip(*T)))\n",
    "    assert x.shape[1] == 2, 'Can only plot points on the plane'\n",
    "    plt.plot(x[:, 0][y == -1], x[:, 1][y == -1], 'g^')\n",
    "    plt.plot(x[:, 0][y == 1], x[:, 1][y == 1], 'bs')\n",
    "    if v is not None:\n",
    "        plot_line(v)\n",
    "    plt.gca().set_aspect(1)\n",
    "    plt.xticks([])\n",
    "    plt.yticks([])\n",
    "    if epochs is not None:\n",
    "        plt.title('{} epochs to convergence'.format(epochs))"
   ]
  },
  {
   "cell_type": "code",
   "execution_count": 262,
   "metadata": {
    "tags": [
     "AST"
    ]
   },
   "outputs": [],
   "source": [
    "import pickle\n",
    "\n",
    "\n",
    "file_name = 'training_set.pkl'\n",
    "with open(file_name, 'rb') as file:\n",
    "    T = pickle.load(file)"
   ]
  },
  {
   "cell_type": "code",
   "execution_count": 347,
   "metadata": {},
   "outputs": [],
   "source": [
    "from random import shuffle\n"
   ]
  },
  {
   "cell_type": "code",
   "execution_count": 356,
   "metadata": {},
   "outputs": [],
   "source": [
    "def train(T, r=.1, max_epochs=100):\n",
    "    from random import shuffle\n",
    "    v=np.zeros((3,1))\n",
    "    epochs = 0\n",
    "    check = 1\n",
    "    for i in range (max_epochs):\n",
    "        if (check == 0):\n",
    "            return v, epochs\n",
    "        check = 0\n",
    "        for x, y in T:\n",
    "            gr=np.zeros((3,1))\n",
    "            gr[0]=-1*y*x[0]\n",
    "            gr[1]=-1*y*x[1]\n",
    "            gr[2]=-1*y\n",
    "            loss = 0\n",
    "            for val in gr:\n",
    "                loss = val + loss\n",
    "            if loss == 0:\n",
    "                return v, epochs\n",
    "            if loss != 0:\n",
    "                upd = gr*r\n",
    "                v = np.subtract(v, upd)\n",
    "                check = 1\n",
    "        shuffle(T)\n",
    "        epochs = epochs + 1\n",
    "    return v, epochs\n",
    "        \n"
   ]
  },
  {
   "cell_type": "code",
   "execution_count": 357,
   "metadata": {},
   "outputs": [
    {
     "data": {
      "image/png": "[encoded data removed]",
      "text/plain": [
       "<Figure size 432x288 with 4 Axes>"
      ]
     },
     "metadata": {},
     "output_type": "display_data"
    }
   ],
   "source": [
    "fig = plt.figure()\n",
    "fig.add_subplot(221)\n",
    "v, epoch = train(T)\n",
    "show(T, v, epoch)\n",
    "fig.add_subplot(222)\n",
    "v, epoch = train(T)\n",
    "show(T, v, epoch)\n",
    "fig.add_subplot(223)\n",
    "v, epoch = train(T)\n",
    "show(T, v, epoch)\n",
    "fig.add_subplot(224)\n",
    "v, epoch = train(T)\n",
    "show(T, v, epoch)"
   ]
  },
  {
   "cell_type": "markdown",
   "metadata": {
    "tags": [
     "AST"
    ]
   },
   "source": [
    "### Problem 2.3 (Exam Style)"
   ]
  },
  {
   "cell_type": "markdown",
   "metadata": {},
   "source": [
    "The equation 𝐰𝑇𝐱+𝑏=0 does not take into account distance from each point. The function calculates the sign of the equation for relative distance, i.e. whether a point is in one group or another, but it does not specify distance more than that because many different hyperplanes can be used to separate data.\n",
    "\n",
    "example 1:\n",
    "\n",
    "v1=([1,0],-1/2)\n",
    "\n",
    "v2=([1,0],-1/4)\n",
    "\n",
    "loss 1:1/2\n",
    "\n",
    "loss 2:3/4\n",
    "\n",
    "X is closer to v1, but because multiple hyperplanes can be used in the space between two regions and return valid signed results, the loss varies when distance isn't taken into account.\n",
    "\n",
    "There can also be multiple ways to numerically define a hyperplane, and although these values represent the same hyperplane in space, a basis vector can be represented with different multiplicities.\n",
    "\n",
    "example 1:\n",
    "\n",
    "v1=([1,2],-1/2)\n",
    "\n",
    "v2=([2,4],-1/2)\n",
    "\n",
    "loss 1: 1/2\n",
    "\n",
    "loss 2: 1 1/2\n",
    "\n",
    "The equation lends itself to being flexible for many definitions, whether than be a line a plan or a hyperplane depending on the dimension, but this function doesn't have to specify that w is a simplified basis vector or not. "
   ]
  },
  {
   "cell_type": "markdown",
   "metadata": {
    "tags": [
     "AST"
    ]
   },
   "source": [
    "### Problem 2.4 (Exam Style)"
   ]
  },
  {
   "cell_type": "markdown",
   "metadata": {},
   "source": [
    "The algorithm wouldn't converge on a line/plane/hyperplane because the gradient wouldn't make it through the training set without being greater than zero. A linear predictor cannot be created if the data is not linearly separable."
   ]
  },
  {
   "cell_type": "markdown",
   "metadata": {
    "tags": [
     "AST"
    ]
   },
   "source": [
    "### Problem 2.5 (Exam Style)"
   ]
  },
  {
   "cell_type": "markdown",
   "metadata": {},
   "source": [
    "The search for c fails when all c's are classified with a negative, opposite sign from b.\n",
    "\n",
    "When it succeeds, does the bracketing triple shrink below  𝜖  if enough iterations of line search are performed?\n",
    "Yes, the bracketing triple can shrink below 𝜖 because even after checking if it's smaller than 𝜖 the interval can grow smaller after another iteration.\n"
   ]
  }
 ],
 "metadata": {
  "celltoolbar": "Tags",
  "kernelspec": {
   "display_name": "Python 3",
   "language": "python",
   "name": "python3"
  },
  "language_info": {
   "codemirror_mode": {
    "name": "ipython",
    "version": 3
   },
   "file_extension": ".py",
   "mimetype": "text/x-python",
   "name": "python",
   "nbconvert_exporter": "python",
   "pygments_lexer": "ipython3",
   "version": "3.8.3"
  },
  "pycharm": {
   "stem_cell": {
    "cell_type": "raw",
    "metadata": {
     "collapsed": false
    },
    "source": []
   }
  }
 },
 "nbformat": 4,
 "nbformat_minor": 2
}
